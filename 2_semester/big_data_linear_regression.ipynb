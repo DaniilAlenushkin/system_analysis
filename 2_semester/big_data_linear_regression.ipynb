{
 "cells": [
  {
   "cell_type": "markdown",
   "source": [
    "1. Загружаем необходимые пакеты и библиотеки."
   ],
   "metadata": {
    "collapsed": false
   }
  },
  {
   "cell_type": "code",
   "execution_count": 1,
   "metadata": {
    "collapsed": true
   },
   "outputs": [],
   "source": [
    "%matplotlib inline\n",
    "import matplotlib.pyplot as plt\n",
    "import numpy as np\n",
    "import pandas as pd\n",
    "import seaborn as sns\n",
    "from sklearn.linear_model import LinearRegression\n",
    "from sklearn.metrics import mean_squared_error, r2_score\n",
    "from sklearn.model_selection import train_test_split\n",
    "from sklearn.preprocessing import MinMaxScaler\n",
    "import scipy.stats as stats"
   ]
  },
  {
   "cell_type": "markdown",
   "source": [
    "2. Загружаем данные."
   ],
   "metadata": {
    "collapsed": false
   }
  },
  {
   "cell_type": "code",
   "execution_count": 2,
   "outputs": [
    {
     "data": {
      "text/plain": "    Oven holding time  Furnace temperature  Dough moisture  Baking moisture\n0                 2.5                  180              63              3.1\n1                 2.5                  180              64              3.4\n2                 2.5                  180              65              3.5\n3                 2.5                  180              63              3.2\n4                 2.5                  180              64              3.3\n5                 2.5                  200              65              3.4\n6                 2.5                  200              63              3.2\n7                 2.5                  200              64              3.3\n8                 2.5                  200              65              3.4\n9                 2.5                  200              63              3.2\n10                3.0                  180              63              2.9\n11                3.0                  180              64              3.0\n12                3.0                  180              65              3.1\n13                3.0                  180              63              2.8\n14                3.0                  180              64              2.9\n15                3.0                  200              65              2.9\n16                3.0                  200              63              2.7\n17                3.0                  200              64              2.8\n18                3.0                  200              65              2.9\n19                3.0                  200              63              2.8",
      "text/html": "<div>\n<style scoped>\n    .dataframe tbody tr th:only-of-type {\n        vertical-align: middle;\n    }\n\n    .dataframe tbody tr th {\n        vertical-align: top;\n    }\n\n    .dataframe thead th {\n        text-align: right;\n    }\n</style>\n<table border=\"1\" class=\"dataframe\">\n  <thead>\n    <tr style=\"text-align: right;\">\n      <th></th>\n      <th>Oven holding time</th>\n      <th>Furnace temperature</th>\n      <th>Dough moisture</th>\n      <th>Baking moisture</th>\n    </tr>\n  </thead>\n  <tbody>\n    <tr>\n      <th>0</th>\n      <td>2.5</td>\n      <td>180</td>\n      <td>63</td>\n      <td>3.1</td>\n    </tr>\n    <tr>\n      <th>1</th>\n      <td>2.5</td>\n      <td>180</td>\n      <td>64</td>\n      <td>3.4</td>\n    </tr>\n    <tr>\n      <th>2</th>\n      <td>2.5</td>\n      <td>180</td>\n      <td>65</td>\n      <td>3.5</td>\n    </tr>\n    <tr>\n      <th>3</th>\n      <td>2.5</td>\n      <td>180</td>\n      <td>63</td>\n      <td>3.2</td>\n    </tr>\n    <tr>\n      <th>4</th>\n      <td>2.5</td>\n      <td>180</td>\n      <td>64</td>\n      <td>3.3</td>\n    </tr>\n    <tr>\n      <th>5</th>\n      <td>2.5</td>\n      <td>200</td>\n      <td>65</td>\n      <td>3.4</td>\n    </tr>\n    <tr>\n      <th>6</th>\n      <td>2.5</td>\n      <td>200</td>\n      <td>63</td>\n      <td>3.2</td>\n    </tr>\n    <tr>\n      <th>7</th>\n      <td>2.5</td>\n      <td>200</td>\n      <td>64</td>\n      <td>3.3</td>\n    </tr>\n    <tr>\n      <th>8</th>\n      <td>2.5</td>\n      <td>200</td>\n      <td>65</td>\n      <td>3.4</td>\n    </tr>\n    <tr>\n      <th>9</th>\n      <td>2.5</td>\n      <td>200</td>\n      <td>63</td>\n      <td>3.2</td>\n    </tr>\n    <tr>\n      <th>10</th>\n      <td>3.0</td>\n      <td>180</td>\n      <td>63</td>\n      <td>2.9</td>\n    </tr>\n    <tr>\n      <th>11</th>\n      <td>3.0</td>\n      <td>180</td>\n      <td>64</td>\n      <td>3.0</td>\n    </tr>\n    <tr>\n      <th>12</th>\n      <td>3.0</td>\n      <td>180</td>\n      <td>65</td>\n      <td>3.1</td>\n    </tr>\n    <tr>\n      <th>13</th>\n      <td>3.0</td>\n      <td>180</td>\n      <td>63</td>\n      <td>2.8</td>\n    </tr>\n    <tr>\n      <th>14</th>\n      <td>3.0</td>\n      <td>180</td>\n      <td>64</td>\n      <td>2.9</td>\n    </tr>\n    <tr>\n      <th>15</th>\n      <td>3.0</td>\n      <td>200</td>\n      <td>65</td>\n      <td>2.9</td>\n    </tr>\n    <tr>\n      <th>16</th>\n      <td>3.0</td>\n      <td>200</td>\n      <td>63</td>\n      <td>2.7</td>\n    </tr>\n    <tr>\n      <th>17</th>\n      <td>3.0</td>\n      <td>200</td>\n      <td>64</td>\n      <td>2.8</td>\n    </tr>\n    <tr>\n      <th>18</th>\n      <td>3.0</td>\n      <td>200</td>\n      <td>65</td>\n      <td>2.9</td>\n    </tr>\n    <tr>\n      <th>19</th>\n      <td>3.0</td>\n      <td>200</td>\n      <td>63</td>\n      <td>2.8</td>\n    </tr>\n  </tbody>\n</table>\n</div>"
     },
     "execution_count": 2,
     "metadata": {},
     "output_type": "execute_result"
    }
   ],
   "source": [
    "data = pd.read_csv('lw4_dataset.csv')\n",
    "data"
   ],
   "metadata": {
    "collapsed": false
   }
  },
  {
   "cell_type": "markdown",
   "source": [
    "3. Выполняем разведочный анализ данных."
   ],
   "metadata": {
    "collapsed": false
   }
  },
  {
   "cell_type": "code",
   "execution_count": 3,
   "outputs": [
    {
     "data": {
      "text/plain": "<Figure size 500x500 with 2 Axes>",
      "image/png": "[encoded data removed]"
     },
     "metadata": {},
     "output_type": "display_data"
    }
   ],
   "source": [
    "# Построим корреляционную матицу\n",
    "correlation = data.corr()\n",
    "plt.figure(figsize=(5,5))\n",
    "plt.title('Correlation Matrix')\n",
    "sns.heatmap(correlation, vmax=1, square=True, annot=True, cmap='cubehelix')\n",
    "plt.show()"
   ],
   "metadata": {
    "collapsed": false
   }
  },
  {
   "cell_type": "code",
   "execution_count": 4,
   "outputs": [
    {
     "data": {
      "text/plain": "                     Oven holding time  Furnace temperature  Dough moisture  \\\nOven holding time         1.000000e+00        -1.065814e-15   -9.155377e-16   \nFurnace temperature      -1.065814e-15         1.000000e+00    1.203859e-01   \nDough moisture           -9.155377e-16         1.203859e-01    1.000000e+00   \nBaking moisture          -8.803658e-01        -1.257665e-01    3.734660e-01   \n\n                     Baking moisture  \nOven holding time          -0.880366  \nFurnace temperature        -0.125767  \nDough moisture              0.373466  \nBaking moisture             1.000000  ",
      "text/html": "<div>\n<style scoped>\n    .dataframe tbody tr th:only-of-type {\n        vertical-align: middle;\n    }\n\n    .dataframe tbody tr th {\n        vertical-align: top;\n    }\n\n    .dataframe thead th {\n        text-align: right;\n    }\n</style>\n<table border=\"1\" class=\"dataframe\">\n  <thead>\n    <tr style=\"text-align: right;\">\n      <th></th>\n      <th>Oven holding time</th>\n      <th>Furnace temperature</th>\n      <th>Dough moisture</th>\n      <th>Baking moisture</th>\n    </tr>\n  </thead>\n  <tbody>\n    <tr>\n      <th>Oven holding time</th>\n      <td>1.000000e+00</td>\n      <td>-1.065814e-15</td>\n      <td>-9.155377e-16</td>\n      <td>-0.880366</td>\n    </tr>\n    <tr>\n      <th>Furnace temperature</th>\n      <td>-1.065814e-15</td>\n      <td>1.000000e+00</td>\n      <td>1.203859e-01</td>\n      <td>-0.125767</td>\n    </tr>\n    <tr>\n      <th>Dough moisture</th>\n      <td>-9.155377e-16</td>\n      <td>1.203859e-01</td>\n      <td>1.000000e+00</td>\n      <td>0.373466</td>\n    </tr>\n    <tr>\n      <th>Baking moisture</th>\n      <td>-8.803658e-01</td>\n      <td>-1.257665e-01</td>\n      <td>3.734660e-01</td>\n      <td>1.000000</td>\n    </tr>\n  </tbody>\n</table>\n</div>"
     },
     "execution_count": 4,
     "metadata": {},
     "output_type": "execute_result"
    }
   ],
   "source": [
    "# Вычислим стандартный коэффициент корреляции между каждой парой атрибутов\n",
    "corr_matrix = data.corr()\n",
    "corr_matrix"
   ],
   "metadata": {
    "collapsed": false
   }
  },
  {
   "cell_type": "code",
   "execution_count": 5,
   "outputs": [
    {
     "data": {
      "text/plain": "Baking moisture        1.000000\nDough moisture         0.373466\nFurnace temperature   -0.125767\nOven holding time     -0.880366\nName: Baking moisture, dtype: float64"
     },
     "execution_count": 5,
     "metadata": {},
     "output_type": "execute_result"
    }
   ],
   "source": [
    "# Посмотрим, насколько каждый атрибут связан с целевым значением\n",
    "corr_matrix[\"Baking moisture\"].sort_values(ascending=False)"
   ],
   "metadata": {
    "collapsed": false
   }
  },
  {
   "cell_type": "markdown",
   "source": [
    "4. Выполняем преобразование данных."
   ],
   "metadata": {
    "collapsed": false
   }
  },
  {
   "cell_type": "code",
   "execution_count": 6,
   "outputs": [
    {
     "data": {
      "text/plain": "      0    1    2      3\n0   0.0  0.0  0.0  0.500\n1   0.0  0.0  0.5  0.875\n2   0.0  0.0  1.0  1.000\n3   0.0  0.0  0.0  0.625\n4   0.0  0.0  0.5  0.750\n5   0.0  1.0  1.0  0.875\n6   0.0  1.0  0.0  0.625\n7   0.0  1.0  0.5  0.750\n8   0.0  1.0  1.0  0.875\n9   0.0  1.0  0.0  0.625\n10  1.0  0.0  0.0  0.250\n11  1.0  0.0  0.5  0.375\n12  1.0  0.0  1.0  0.500\n13  1.0  0.0  0.0  0.125\n14  1.0  0.0  0.5  0.250\n15  1.0  1.0  1.0  0.250\n16  1.0  1.0  0.0  0.000\n17  1.0  1.0  0.5  0.125\n18  1.0  1.0  1.0  0.250\n19  1.0  1.0  0.0  0.125",
      "text/html": "<div>\n<style scoped>\n    .dataframe tbody tr th:only-of-type {\n        vertical-align: middle;\n    }\n\n    .dataframe tbody tr th {\n        vertical-align: top;\n    }\n\n    .dataframe thead th {\n        text-align: right;\n    }\n</style>\n<table border=\"1\" class=\"dataframe\">\n  <thead>\n    <tr style=\"text-align: right;\">\n      <th></th>\n      <th>0</th>\n      <th>1</th>\n      <th>2</th>\n      <th>3</th>\n    </tr>\n  </thead>\n  <tbody>\n    <tr>\n      <th>0</th>\n      <td>0.0</td>\n      <td>0.0</td>\n      <td>0.0</td>\n      <td>0.500</td>\n    </tr>\n    <tr>\n      <th>1</th>\n      <td>0.0</td>\n      <td>0.0</td>\n      <td>0.5</td>\n      <td>0.875</td>\n    </tr>\n    <tr>\n      <th>2</th>\n      <td>0.0</td>\n      <td>0.0</td>\n      <td>1.0</td>\n      <td>1.000</td>\n    </tr>\n    <tr>\n      <th>3</th>\n      <td>0.0</td>\n      <td>0.0</td>\n      <td>0.0</td>\n      <td>0.625</td>\n    </tr>\n    <tr>\n      <th>4</th>\n      <td>0.0</td>\n      <td>0.0</td>\n      <td>0.5</td>\n      <td>0.750</td>\n    </tr>\n    <tr>\n      <th>5</th>\n      <td>0.0</td>\n      <td>1.0</td>\n      <td>1.0</td>\n      <td>0.875</td>\n    </tr>\n    <tr>\n      <th>6</th>\n      <td>0.0</td>\n      <td>1.0</td>\n      <td>0.0</td>\n      <td>0.625</td>\n    </tr>\n    <tr>\n      <th>7</th>\n      <td>0.0</td>\n      <td>1.0</td>\n      <td>0.5</td>\n      <td>0.750</td>\n    </tr>\n    <tr>\n      <th>8</th>\n      <td>0.0</td>\n      <td>1.0</td>\n      <td>1.0</td>\n      <td>0.875</td>\n    </tr>\n    <tr>\n      <th>9</th>\n      <td>0.0</td>\n      <td>1.0</td>\n      <td>0.0</td>\n      <td>0.625</td>\n    </tr>\n    <tr>\n      <th>10</th>\n      <td>1.0</td>\n      <td>0.0</td>\n      <td>0.0</td>\n      <td>0.250</td>\n    </tr>\n    <tr>\n      <th>11</th>\n      <td>1.0</td>\n      <td>0.0</td>\n      <td>0.5</td>\n      <td>0.375</td>\n    </tr>\n    <tr>\n      <th>12</th>\n      <td>1.0</td>\n      <td>0.0</td>\n      <td>1.0</td>\n      <td>0.500</td>\n    </tr>\n    <tr>\n      <th>13</th>\n      <td>1.0</td>\n      <td>0.0</td>\n      <td>0.0</td>\n      <td>0.125</td>\n    </tr>\n    <tr>\n      <th>14</th>\n      <td>1.0</td>\n      <td>0.0</td>\n      <td>0.5</td>\n      <td>0.250</td>\n    </tr>\n    <tr>\n      <th>15</th>\n      <td>1.0</td>\n      <td>1.0</td>\n      <td>1.0</td>\n      <td>0.250</td>\n    </tr>\n    <tr>\n      <th>16</th>\n      <td>1.0</td>\n      <td>1.0</td>\n      <td>0.0</td>\n      <td>0.000</td>\n    </tr>\n    <tr>\n      <th>17</th>\n      <td>1.0</td>\n      <td>1.0</td>\n      <td>0.5</td>\n      <td>0.125</td>\n    </tr>\n    <tr>\n      <th>18</th>\n      <td>1.0</td>\n      <td>1.0</td>\n      <td>1.0</td>\n      <td>0.250</td>\n    </tr>\n    <tr>\n      <th>19</th>\n      <td>1.0</td>\n      <td>1.0</td>\n      <td>0.0</td>\n      <td>0.125</td>\n    </tr>\n  </tbody>\n</table>\n</div>"
     },
     "execution_count": 6,
     "metadata": {},
     "output_type": "execute_result"
    }
   ],
   "source": [
    "# Преобразовываем данные\n",
    "scaler = MinMaxScaler(feature_range=(0, 1))\n",
    "rescaled_data = pd.DataFrame(scaler.fit_transform(data))\n",
    "rescaled_data"
   ],
   "metadata": {
    "collapsed": false
   }
  },
  {
   "cell_type": "markdown",
   "source": [
    "5. Разделим исходный датасет на выборку для обучения и выборку для проверки."
   ],
   "metadata": {
    "collapsed": false
   }
  },
  {
   "cell_type": "code",
   "execution_count": 7,
   "outputs": [],
   "source": [
    "test_size = 0.2\n",
    "seed = 7\n",
    "\n",
    "rescaled_data_X = rescaled_data.iloc[:, :3]\n",
    "rescaled_data_Y = rescaled_data[3]\n",
    "\n",
    "rescaled_data_X_train, rescaled_data_X_test, rescaled_data_Y_train, rescaled_data_Y_test =\\\n",
    "train_test_split(rescaled_data_X, rescaled_data_Y, test_size=test_size, random_state=seed)"
   ],
   "metadata": {
    "collapsed": false
   }
  },
  {
   "cell_type": "markdown",
   "source": [
    "6. Обучим модель линейной регрессии и сделаем предсказание с помощью встроенной функции."
   ],
   "metadata": {
    "collapsed": false
   }
  },
  {
   "cell_type": "code",
   "execution_count": 8,
   "outputs": [
    {
     "name": "stdout",
     "output_type": "stream",
     "text": [
      "RMSE for Linear Regression for train dataset: 0.07228743141562011\n",
      "R2_score for Linear Regression for train dataset: 0.9188491512956359\n",
      "\n",
      "RMSE for Linear Regression for test dataset: 0.08202527409038798\n",
      "R2_score for Linear Regression for test dataset: 0.9439868204572867\n"
     ]
    }
   ],
   "source": [
    "model = LinearRegression()\n",
    "model.fit(rescaled_data_X_train, rescaled_data_Y_train)\n",
    "\n",
    "rescaled_data_Y_pred_train = model.predict(rescaled_data_X_train)\n",
    "rmse_train = np.sqrt(mean_squared_error(rescaled_data_Y_train, rescaled_data_Y_pred_train))\n",
    "r2_train = r2_score(rescaled_data_Y_train, rescaled_data_Y_pred_train)\n",
    "print(\"RMSE for Linear Regression for train dataset:\", rmse_train)\n",
    "print(\"R2_score for Linear Regression for train dataset:\", r2_train)\n",
    "print()\n",
    "\n",
    "rescaled_data_Y_pred_test = model.predict(rescaled_data_X_test)\n",
    "rmse_test = np.sqrt(mean_squared_error(rescaled_data_Y_test, rescaled_data_Y_pred_test))\n",
    "r2_test = r2_score(rescaled_data_Y_test, rescaled_data_Y_pred_test)\n",
    "print(\"RMSE for Linear Regression for test dataset:\", rmse_test)\n",
    "print(\"R2_score for Linear Regression for test dataset:\", r2_test)"
   ],
   "metadata": {
    "collapsed": false
   }
  },
  {
   "cell_type": "markdown",
   "source": [
    "7. Обучим модель линейной регрессии и сделаем предсказание с помощью самописной функции."
   ],
   "metadata": {
    "collapsed": false
   }
  },
  {
   "cell_type": "code",
   "execution_count": 9,
   "outputs": [
    {
     "name": "stdout",
     "output_type": "stream",
     "text": [
      "RMSE for Linear Regression for train dataset: 0.07228796251708526\n",
      "R2_score for Linear Regression for train dataset: 0.9188479588478721\n",
      "\n",
      "RMSE for Linear Regression for test dataset: 0.0824641704309432\n",
      "R2_score for Linear Regression for test dataset: 0.9433857922717044\n",
      "\n",
      "0.23793740296198895\n",
      "[0.29337172 0.78491129 0.33192362]\n"
     ]
    }
   ],
   "source": [
    "class LinearRegressionSelfWritten:\n",
    "    def __init__(self, learning_rate=0.01, max_iterations=10000, epsilon=0.0001):\n",
    "        self.learning_rate = learning_rate\n",
    "        self.max_iterations = max_iterations\n",
    "        self.epsilon = epsilon\n",
    "\n",
    "    def fit(self, X, y):\n",
    "        # Добавляем столбец единиц для свободного члена\n",
    "        X = np.c_[X, np.ones(X.shape[0])]\n",
    "        # Инициализируем веса случайными значениями\n",
    "        self.theta = np.random.randn(X.shape[1])\n",
    "        # Градиентный спуск\n",
    "        for i in range(self.max_iterations):\n",
    "            # Вычисляем градиент\n",
    "            grad = np.dot(X.T, np.dot(X, self.theta) - y) / y.size\n",
    "            # Обновляем веса\n",
    "            self.theta -= self.learning_rate * grad\n",
    "            # Проверяем критерий остановки\n",
    "            if np.linalg.norm(grad) < self.epsilon:\n",
    "                break\n",
    "\n",
    "    def predict(self, X):\n",
    "        # Добавляем столбец единиц для свободного члена\n",
    "        X = np.c_[X, np.ones(X.shape[0])]\n",
    "        # Вычисляем прогноз\n",
    "        return np.dot(X, self.theta)\n",
    "\n",
    "    def test_model_significance(self, X, y):\n",
    "        y_pred = self.predict(X)\n",
    "        n = X.shape[0]\n",
    "        p = X.shape[1]\n",
    "        SSE = np.sum((y - y_pred) ** 2)  # сумма квадратов остатков\n",
    "        SST = np.sum((y - np.mean(y)) ** 2)  # общая сумма квадратов\n",
    "        SSR = SST - SSE  # сумма квадратов регрессии\n",
    "        F = (SSR / (p - 1)) / (SSE / (n - p))  # F-статистика\n",
    "        p_value = 1 - stats.f.cdf(F, p - 1, n - p)  # p-value\n",
    "        return p_value\n",
    "\n",
    "    def test_coefficient_significance(self, X, y):\n",
    "        y_pred = self.predict(X)\n",
    "        n = X.shape[0]\n",
    "        p = X.shape[1]\n",
    "        SSE = np.sum((y - y_pred) ** 2)  # сумма квадратов остатков\n",
    "        var = SSE / (n - p)  # оценка дисперсии ошибки\n",
    "        se = np.sqrt(np.diag(np.linalg.inv(np.dot(X.T, X))) * var)  # стандартные ошибки оценок коэффициентов\n",
    "        t = self.theta[:-1] / se  # t-статистики\n",
    "        p_values = (1 - stats.t.cdf(abs(t), n-p)) * 2  # p-values\n",
    "        return p_values\n",
    "\n",
    "\n",
    "X_train = np.array(rescaled_data_X_train)\n",
    "y_train = np.array(rescaled_data_Y_train)\n",
    "X_test =  np.array(rescaled_data_X_test)\n",
    "y_test = np.array(rescaled_data_Y_test)\n",
    "\n",
    "reg = LinearRegressionSelfWritten()\n",
    "reg.fit(X_train, y_train)\n",
    "\n",
    "y_pred_train = reg.predict(X_train)\n",
    "rmse_train = np.sqrt(mean_squared_error(y_train, y_pred_train))\n",
    "r2_train = r2_score(y_train, y_pred_train)\n",
    "print(\"RMSE for Linear Regression for train dataset:\", rmse_train)\n",
    "print(\"R2_score for Linear Regression for train dataset:\", r2_train)\n",
    "print()\n",
    "\n",
    "y_pred_test =  reg.predict(X_test)\n",
    "rmse_test = np.sqrt(mean_squared_error(y_test, y_pred_test))\n",
    "r2_test = r2_score(y_test, y_pred_test)\n",
    "print(\"RMSE for Linear Regression for test dataset:\", rmse_test)\n",
    "print(\"R2_score for Linear Regression for test dataset:\", r2_test)\n",
    "print()\n",
    "\n",
    "print(reg.test_model_significance(X_test, y_test))\n",
    "print(reg.test_coefficient_significance(X_test, y_test))"
   ],
   "metadata": {
    "collapsed": false
   }
  },
  {
   "cell_type": "markdown",
   "source": [],
   "metadata": {
    "collapsed": false
   }
  }
 ],
 "metadata": {
  "kernelspec": {
   "display_name": "Python 3",
   "language": "python",
   "name": "python3"
  },
  "language_info": {
   "codemirror_mode": {
    "name": "ipython",
    "version": 2
   },
   "file_extension": ".py",
   "mimetype": "text/x-python",
   "name": "python",
   "nbconvert_exporter": "python",
   "pygments_lexer": "ipython2",
   "version": "2.7.6"
  }
 },
 "nbformat": 4,
 "nbformat_minor": 0
}
